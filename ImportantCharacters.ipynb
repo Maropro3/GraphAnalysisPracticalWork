{
  "nbformat": 4,
  "nbformat_minor": 0,
  "metadata": {
    "colab": {
      "name": "ImportantCharacters.ipynb",
      "provenance": [],
      "include_colab_link": true
    },
    "kernelspec": {
      "name": "python3",
      "display_name": "Python 3"
    },
    "language_info": {
      "name": "python"
    }
  },
  "cells": [
    {
      "cell_type": "markdown",
      "metadata": {
        "id": "view-in-github",
        "colab_type": "text"
      },
      "source": [
        "<a href=\"https://colab.research.google.com/github/Maropro3/GraphAnalysisPracticalWork/blob/main/ImportantCharacters.ipynb\" target=\"_parent\"><img src=\"https://colab.research.google.com/assets/colab-badge.svg\" alt=\"Open In Colab\"/></a>"
      ]
    },
    {
      "cell_type": "code",
      "metadata": {
        "id": "W_jkTOyshohQ"
      },
      "source": [
        "import pandas as pd\n",
        "import numpy as np\n",
        "import matplotlib.pyplot as plt\n",
        "import matplotlib.cm as cm\n",
        "from sklearn.model_selection import train_test_split\n",
        "from sklearn.feature_selection import mutual_info_classif\n",
        "from sklearn.feature_selection import SelectKBest"
      ],
      "execution_count": null,
      "outputs": []
    },
    {
      "cell_type": "code",
      "metadata": {
        "colab": {
          "base_uri": "https://localhost:8080/",
          "height": 421
        },
        "id": "jZgWBwiRhqNs",
        "outputId": "0c34f28d-0b25-4a82-cdf1-6f6a647226d0"
      },
      "source": [
        "df = pd.read_csv(\"https://raw.githubusercontent.com/Maropro3/GraphAnalysisPracticalWork/main/Characters.csv\")\n",
        "df.head().T"
      ],
      "execution_count": null,
      "outputs": [
        {
          "output_type": "execute_result",
          "data": {
            "text/html": [
              "<div>\n",
              "<style scoped>\n",
              "    .dataframe tbody tr th:only-of-type {\n",
              "        vertical-align: middle;\n",
              "    }\n",
              "\n",
              "    .dataframe tbody tr th {\n",
              "        vertical-align: top;\n",
              "    }\n",
              "\n",
              "    .dataframe thead th {\n",
              "        text-align: right;\n",
              "    }\n",
              "</style>\n",
              "<table border=\"1\" class=\"dataframe\">\n",
              "  <thead>\n",
              "    <tr style=\"text-align: right;\">\n",
              "      <th></th>\n",
              "      <th>0</th>\n",
              "      <th>1</th>\n",
              "      <th>2</th>\n",
              "      <th>3</th>\n",
              "      <th>4</th>\n",
              "    </tr>\n",
              "  </thead>\n",
              "  <tbody>\n",
              "    <tr>\n",
              "      <th>Id</th>\n",
              "      <td>4770051</td>\n",
              "      <td>4769112</td>\n",
              "      <td>4769357</td>\n",
              "      <td>4769119</td>\n",
              "      <td>4769205</td>\n",
              "    </tr>\n",
              "    <tr>\n",
              "      <th>Label</th>\n",
              "      <td>VADER</td>\n",
              "      <td>LUKE</td>\n",
              "      <td>THREEPIO</td>\n",
              "      <td>HAN</td>\n",
              "      <td>RIEEKAN</td>\n",
              "    </tr>\n",
              "    <tr>\n",
              "      <th>timeset</th>\n",
              "      <td>NaN</td>\n",
              "      <td>NaN</td>\n",
              "      <td>NaN</td>\n",
              "      <td>NaN</td>\n",
              "      <td>NaN</td>\n",
              "    </tr>\n",
              "    <tr>\n",
              "      <th>movie_id</th>\n",
              "      <td>777</td>\n",
              "      <td>777</td>\n",
              "      <td>777</td>\n",
              "      <td>777</td>\n",
              "      <td>777</td>\n",
              "    </tr>\n",
              "    <tr>\n",
              "      <th>Eccentricity</th>\n",
              "      <td>4</td>\n",
              "      <td>4</td>\n",
              "      <td>3</td>\n",
              "      <td>3</td>\n",
              "      <td>4</td>\n",
              "    </tr>\n",
              "    <tr>\n",
              "      <th>closnesscentrality</th>\n",
              "      <td>1.83333</td>\n",
              "      <td>1.83333</td>\n",
              "      <td>1.75</td>\n",
              "      <td>1.77778</td>\n",
              "      <td>2.38889</td>\n",
              "    </tr>\n",
              "    <tr>\n",
              "      <th>betweenesscentrality</th>\n",
              "      <td>225.321</td>\n",
              "      <td>223.476</td>\n",
              "      <td>145.869</td>\n",
              "      <td>103.202</td>\n",
              "      <td>99</td>\n",
              "    </tr>\n",
              "    <tr>\n",
              "      <th>Degree</th>\n",
              "      <td>12</td>\n",
              "      <td>14</td>\n",
              "      <td>15</td>\n",
              "      <td>14</td>\n",
              "      <td>5</td>\n",
              "    </tr>\n",
              "    <tr>\n",
              "      <th>componentnumber</th>\n",
              "      <td>0</td>\n",
              "      <td>0</td>\n",
              "      <td>0</td>\n",
              "      <td>0</td>\n",
              "      <td>0</td>\n",
              "    </tr>\n",
              "    <tr>\n",
              "      <th>modularity_class</th>\n",
              "      <td>3</td>\n",
              "      <td>4</td>\n",
              "      <td>0</td>\n",
              "      <td>0</td>\n",
              "      <td>0</td>\n",
              "    </tr>\n",
              "    <tr>\n",
              "      <th>pageranks</th>\n",
              "      <td>0.065054</td>\n",
              "      <td>0.080074</td>\n",
              "      <td>0.077986</td>\n",
              "      <td>0.070712</td>\n",
              "      <td>0.030606</td>\n",
              "    </tr>\n",
              "    <tr>\n",
              "      <th>Main</th>\n",
              "      <td>1</td>\n",
              "      <td>1</td>\n",
              "      <td>0</td>\n",
              "      <td>1</td>\n",
              "      <td>0</td>\n",
              "    </tr>\n",
              "  </tbody>\n",
              "</table>\n",
              "</div>"
            ],
            "text/plain": [
              "                             0         1         2         3         4\n",
              "Id                     4770051   4769112   4769357   4769119   4769205\n",
              "Label                    VADER      LUKE  THREEPIO       HAN   RIEEKAN\n",
              "timeset                    NaN       NaN       NaN       NaN       NaN\n",
              "movie_id                   777       777       777       777       777\n",
              "Eccentricity                 4         4         3         3         4\n",
              "closnesscentrality     1.83333   1.83333      1.75   1.77778   2.38889\n",
              "betweenesscentrality   225.321   223.476   145.869   103.202        99\n",
              "Degree                      12        14        15        14         5\n",
              "componentnumber              0         0         0         0         0\n",
              "modularity_class             3         4         0         0         0\n",
              "pageranks             0.065054  0.080074  0.077986  0.070712  0.030606\n",
              "Main                         1         1         0         1         0"
            ]
          },
          "metadata": {
            "tags": []
          },
          "execution_count": 2
        }
      ]
    },
    {
      "cell_type": "code",
      "metadata": {
        "id": "AMFTAkvgVoZG"
      },
      "source": [
        "data = df.drop(columns=['Id','Label','timeset','movie_id','Eccentricity','componentnumber','modularity_class', 'Main'])\n",
        "target = df['Main']\n"
      ],
      "execution_count": null,
      "outputs": []
    },
    {
      "cell_type": "code",
      "metadata": {
        "id": "GEM1DAg3gpuo"
      },
      "source": [
        "X_train, X_test, y_train, y_test = train_test_split(data, target, test_size=0.3, random_state=1) "
      ],
      "execution_count": null,
      "outputs": []
    },
    {
      "cell_type": "code",
      "metadata": {
        "id": "IoAkAglLgH5y"
      },
      "source": [
        "def select_features(X_train, y_train, X_test):\n",
        "    fs = SelectKBest(score_func=mutual_info_classif, k='all')\n",
        "    fs.fit(X_train, y_train)\n",
        "    X_train_fs = fs.transform(X_train)\n",
        "    X_test_fs = fs.transform(X_test)\n",
        "    return X_train_fs, X_test_fs, fs"
      ],
      "execution_count": null,
      "outputs": []
    },
    {
      "cell_type": "code",
      "metadata": {
        "id": "n7vrPaFrgWfw"
      },
      "source": [
        "L = []\n",
        "\n",
        "X_train_fs, X_test_fs, fs = select_features(X_train, y_train, X_test)\n",
        "for i in range(len(fs.scores_)):\n",
        "    L.append(fs.scores_[i])"
      ],
      "execution_count": null,
      "outputs": []
    },
    {
      "cell_type": "code",
      "metadata": {
        "id": "45ujaH7bgfX4"
      },
      "source": [
        "d = {'attribute': data.columns, 'score': L}\n",
        "d = pd.DataFrame(data=d)"
      ],
      "execution_count": null,
      "outputs": []
    },
    {
      "cell_type": "code",
      "metadata": {
        "colab": {
          "base_uri": "https://localhost:8080/",
          "height": 298
        },
        "id": "ITNYt-lpgiI5",
        "outputId": "5342c957-f4c3-4126-f618-3bee1ed24dd5"
      },
      "source": [
        "ordered_X = d.sort_values(by='score')\n",
        "my_range=range(1,len(d.index)+1)\n",
        " \n",
        "plt.hlines(y=my_range, xmin=0, xmax=ordered_X['score'], color='b')\n",
        "plt.plot(ordered_X['score'], my_range, \"o\")\n",
        "plt.yticks(my_range,ordered_X['attribute'])\n",
        "plt.title(\"Mutual information Regression\")"
      ],
      "execution_count": null,
      "outputs": [
        {
          "output_type": "execute_result",
          "data": {
            "text/plain": [
              "Text(0.5, 1.0, 'Mutual information Regression')"
            ]
          },
          "metadata": {
            "tags": []
          },
          "execution_count": 8
        },
        {
          "output_type": "display_data",
          "data": {
            "image/png": "[encoded data removed]",
            "text/plain": [
              "<Figure size 432x288 with 1 Axes>"
            ]
          },
          "metadata": {
            "tags": [],
            "needs_background": "light"
          }
        }
      ]
    }
  ]
}